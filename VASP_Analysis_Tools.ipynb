{
 "cells": [
  {
   "cell_type": "markdown",
   "id": "12ab1c13",
   "metadata": {},
   "source": [
    "### Average Distance Check"
   ]
  },
  {
   "cell_type": "code",
   "execution_count": 20,
   "id": "5a2232ab",
   "metadata": {},
   "outputs": [
    {
     "name": "stdout",
     "output_type": "stream",
     "text": [
      "Average Ni–O distance within 1.7-2.3 Å: 1.87 Å\n",
      "Average Fe–O distance within 1.7-2.3 Å: 1.99 Å\n",
      "Number of valid Ni–O pairs: 34\n",
      "Number of valid Fe–O pairs: 11\n",
      "Ni : 1.87\n",
      "Ni : 1.88\n",
      "Ni : 1.86\n",
      "Ni : 1.87\n",
      "Ni : 1.87\n",
      "Ni : 1.88\n",
      "Fe : 1.95\n",
      "Fe : 2.02\n"
     ]
    }
   ],
   "source": [
    "from ase.io import read\n",
    "import numpy as np\n",
    "from tkinter.filedialog import askopenfilename\n",
    "\n",
    "# 거리 조건 설정 (단위: Å)\n",
    "min_cutoff = 1.7\n",
    "max_cutoff = 2.3\n",
    "\n",
    "# 구조 파일 선택\n",
    "file_path = askopenfilename(title=\"Select structure file\",\n",
    "                            filetypes=[(\"Structure files\", \"*.cif *.vasp *POSCAR* *CONTCAR*\")])\n",
    "\n",
    "atoms = read(file_path)\n",
    "\n",
    "# Ni, O 원자 인덱스 추출\n",
    "ni_indices = [i for i, atom in enumerate(atoms) if atom.symbol == 'Ni']\n",
    "fe_indices = [i for i, atom in enumerate(atoms) if atom.symbol == 'Fe']\n",
    "o_indices  = [i for i, atom in enumerate(atoms) if atom.symbol == 'O']\n",
    "\n",
    "# 거리 계산 (min_cutoff ≤ distance ≤ max_cutoff)\n",
    "distances_1 = []\n",
    "Ni_each = []\n",
    "Fe_each = []\n",
    "for i in ni_indices:\n",
    "    ni_temp = []\n",
    "    for j in o_indices:\n",
    "        d = atoms.get_distance(i, j, mic=True)\n",
    "        if min_cutoff <= d <= max_cutoff:\n",
    "            distances_1.append(d)\n",
    "            ni_temp.append(d)\n",
    "    Ni_each.append(np.mean(ni_temp))\n",
    "\n",
    "\n",
    "distances_2 = []\n",
    "for i in fe_indices:\n",
    "    fe_temp = []\n",
    "    for j in o_indices:\n",
    "        d = atoms.get_distance(i, j, mic=True)\n",
    "        if min_cutoff <= d <= max_cutoff:\n",
    "            distances_2.append(d)\n",
    "            fe_temp.append(d)\n",
    "    Fe_each.append(np.mean(fe_temp))\n",
    "\n",
    "# 출력\n",
    "if distances_1:\n",
    "    mean_distance_1 = np.mean(distances_1)\n",
    "    mean_distance_2 = np.mean(distances_2)\n",
    "    print(f\"Average Ni–O distance within {min_cutoff}-{max_cutoff} Å: {mean_distance_1:.2f} Å\")\n",
    "    print(f\"Average Fe–O distance within {min_cutoff}-{max_cutoff} Å: {mean_distance_2:.2f} Å\")\n",
    "    print(f\"Number of valid Ni–O pairs: {len(distances_1)}\")\n",
    "    print(f\"Number of valid Fe–O pairs: {len(distances_2)}\")\n",
    "else:\n",
    "    print(f\"No Ni–O pairs found within the {min_cutoff}-{max_cutoff} Å range.\")\n",
    "\n",
    "for i in Ni_each :\n",
    "    print(f\"Ni : {i:.2f}\")\n",
    "\n",
    "for i in Fe_each :\n",
    "    print(f\"Fe : {i:.2f}\")"
   ]
  },
  {
   "cell_type": "code",
   "execution_count": 5,
   "id": "90a2f200",
   "metadata": {},
   "outputs": [
    {
     "name": "stdout",
     "output_type": "stream",
     "text": [
      "[2.085309238331063, 1.8836045200195304, 2.0879961116028976, 1.8793838616031622, 1.8806852149052273, 1.8961376847803935, 1.8181942726227684, 1.8708725482925577, 1.879143945611613, 1.8583767115941205, 1.8668467509528073, 1.8546532918351528, 1.8613467260742274, 1.8480288320220846, 1.8717508965906564, 1.8518006499192619, 1.9951559419401772, 1.880267278930294, 1.8694854500559703, 1.8420493160857303, 1.8464268654846292, 1.8637444912433077, 1.8596519334440345, 1.9569700261861176, 1.8870308404917744, 1.827137137114256, 1.8529505194606493, 1.854050896827922, 1.8641887972100986, 1.864584048398396, 1.867150760415062, 1.874322357393964, 1.8584439631413703, 1.875081922402603, 1.9511785296235638, 1.8320910667808261, 1.8498017714448793, 1.8889217349473166, 1.8556000978979534, 1.8717086075642282, 1.86918012540842, 1.8463948857029873, 1.8526506401299345, 1.860189587687038, 1.8647368573852223]\n"
     ]
    }
   ],
   "source": [
    "print(distances_1)"
   ]
  },
  {
   "cell_type": "markdown",
   "id": "d1d24d8b",
   "metadata": {},
   "source": [
    "### 폴더 선택 후 해당 폴더에 존재하는 모든 OSZICAR 결과 출력\n"
   ]
  },
  {
   "cell_type": "code",
   "execution_count": 4,
   "id": "d0fb0a58",
   "metadata": {},
   "outputs": [
    {
     "data": {
      "text/html": [
       "<div>\n",
       "<style scoped>\n",
       "    .dataframe tbody tr th:only-of-type {\n",
       "        vertical-align: middle;\n",
       "    }\n",
       "\n",
       "    .dataframe tbody tr th {\n",
       "        vertical-align: top;\n",
       "    }\n",
       "\n",
       "    .dataframe thead th {\n",
       "        text-align: right;\n",
       "    }\n",
       "</style>\n",
       "<table border=\"1\" class=\"dataframe\">\n",
       "  <thead>\n",
       "    <tr style=\"text-align: right;\">\n",
       "      <th></th>\n",
       "      <th>Folder</th>\n",
       "      <th>Field_3</th>\n",
       "      <th>Field_4</th>\n",
       "    </tr>\n",
       "  </thead>\n",
       "  <tbody>\n",
       "    <tr>\n",
       "      <th>0</th>\n",
       "      <td>01</td>\n",
       "      <td>E0=</td>\n",
       "      <td>-.60038942E+03</td>\n",
       "    </tr>\n",
       "    <tr>\n",
       "      <th>1</th>\n",
       "      <td>02</td>\n",
       "      <td>E0=</td>\n",
       "      <td>-.60053964E+03</td>\n",
       "    </tr>\n",
       "  </tbody>\n",
       "</table>\n",
       "</div>"
      ],
      "text/plain": [
       "  Folder Field_3         Field_4\n",
       "0     01     E0=  -.60038942E+03\n",
       "1     02     E0=  -.60053964E+03"
      ]
     },
     "metadata": {},
     "output_type": "display_data"
    }
   ],
   "source": [
    "import os\n",
    "import pandas as pd\n",
    "from tkinter import filedialog, Tk\n",
    "\n",
    "\n",
    "def find_last_F_line(oszicar_path):\n",
    "    try:\n",
    "        with open(oszicar_path, 'r') as f:\n",
    "            lines_with_F = [line.strip() for line in f if 'F' in line]\n",
    "        return lines_with_F[-1] if lines_with_F else None\n",
    "    except Exception as e:\n",
    "        return f\"Error reading file: {e}\"\n",
    "\n",
    "def search_oszicar_in_folders(root_dir):\n",
    "    data = []\n",
    "    for dirpath, _, filenames in os.walk(root_dir):\n",
    "        if 'OSZICAR' in filenames:\n",
    "            oszicar_path = os.path.join(dirpath, 'OSZICAR')\n",
    "            last_line = find_last_F_line(oszicar_path)\n",
    "            if last_line:\n",
    "                rel_path = os.path.relpath(dirpath, root_dir)\n",
    "                data.append((rel_path, last_line))\n",
    "    df = pd.DataFrame(data, columns=[\"Folder\", \"Last F Line\"])\n",
    "\n",
    "    split_cols = df[\"Last F Line\"].str.split(expand=True)\n",
    "    split_cols.columns = [f\"Field_{i}\" for i in range(split_cols.shape[1])]\n",
    "\n",
    "    selected = pd.concat([df[\"Folder\"], split_cols[[\"Field_3\", \"Field_4\"]]], axis=1)\n",
    "    return selected\n",
    "\n",
    "\n",
    "\n",
    "Tk().withdraw()\n",
    "root_folder = filedialog.askdirectory(title=\"OSZICAR 파일을 찾을 루트 폴더 선택\")\n",
    "if not root_folder:\n",
    "    print(\"선택된 폴더가 없습니다.\")\n",
    "    exit()\n",
    "\n",
    "df = search_oszicar_in_folders(root_folder)\n",
    "if df.empty:\n",
    "    print(\"F가 포함된 OSZICAR 라인이 없습니다.\")\n",
    "else:\n",
    "    display(df)  # Jupyter 환경에서 표로 출력\n",
    "\n",
    "home_dir = os.path.join(os.path.expanduser(\"~\"), \"Desktop\")\n",
    "save_path = os.path.join(home_dir, \"oszicar_results.csv\")\n",
    "\n",
    "df.to_csv(save_path, index=False, encoding='utf-8-sig')"
   ]
  },
  {
   "cell_type": "code",
   "execution_count": 8,
   "id": "0ff58161",
   "metadata": {},
   "outputs": [
    {
     "ename": "NameError",
     "evalue": "name 'df' is not defined",
     "output_type": "error",
     "traceback": [
      "\u001b[1;31m---------------------------------------------------------------------------\u001b[0m",
      "\u001b[1;31mNameError\u001b[0m                                 Traceback (most recent call last)",
      "Cell \u001b[1;32mIn[8], line 5\u001b[0m\n\u001b[0;32m      1\u001b[0m save_path \u001b[38;5;241m=\u001b[39m filedialog\u001b[38;5;241m.\u001b[39masksaveasfilename(defaultextension\u001b[38;5;241m=\u001b[39m\u001b[38;5;124m\"\u001b[39m\u001b[38;5;124m.csv\u001b[39m\u001b[38;5;124m\"\u001b[39m,\n\u001b[0;32m      2\u001b[0m                                         filetypes\u001b[38;5;241m=\u001b[39m[(\u001b[38;5;124m\"\u001b[39m\u001b[38;5;124mCSV files\u001b[39m\u001b[38;5;124m\"\u001b[39m, \u001b[38;5;124m\"\u001b[39m\u001b[38;5;124m*.csv\u001b[39m\u001b[38;5;124m\"\u001b[39m)],\n\u001b[0;32m      3\u001b[0m                                         title\u001b[38;5;241m=\u001b[39m\u001b[38;5;124m\"\u001b[39m\u001b[38;5;124mSave OSZICAR summary as CSV\u001b[39m\u001b[38;5;124m\"\u001b[39m)\n\u001b[1;32m----> 5\u001b[0m \u001b[43mdf\u001b[49m\u001b[38;5;241m.\u001b[39mto_csv(save_path, index\u001b[38;5;241m=\u001b[39m\u001b[38;5;28;01mFalse\u001b[39;00m, encoding\u001b[38;5;241m=\u001b[39m\u001b[38;5;124m'\u001b[39m\u001b[38;5;124mutf-8-sig\u001b[39m\u001b[38;5;124m'\u001b[39m)\n",
      "\u001b[1;31mNameError\u001b[0m: name 'df' is not defined"
     ]
    }
   ],
   "source": [
    "save_path = filedialog.asksaveasfilename(defaultextension=\".csv\",\n",
    "                                        filetypes=[(\"CSV files\", \"*.csv\")],\n",
    "                                        title=\"Save OSZICAR summary as CSV\")\n",
    "\n",
    "df.to_csv(save_path, index=False, encoding='utf-8-sig')"
   ]
  }
 ],
 "metadata": {
  "kernelspec": {
   "display_name": "Python 3",
   "language": "python",
   "name": "python3"
  },
  "language_info": {
   "codemirror_mode": {
    "name": "ipython",
    "version": 3
   },
   "file_extension": ".py",
   "mimetype": "text/x-python",
   "name": "python",
   "nbconvert_exporter": "python",
   "pygments_lexer": "ipython3",
   "version": "3.10.9"
  }
 },
 "nbformat": 4,
 "nbformat_minor": 5
}
